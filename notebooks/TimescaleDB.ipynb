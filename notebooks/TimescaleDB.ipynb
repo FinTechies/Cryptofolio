{
 "cells": [
  {
   "cell_type": "code",
   "execution_count": 2,
   "metadata": {
    "collapsed": true
   },
   "outputs": [],
   "source": [
    "import pandas as pd"
   ]
  },
  {
   "cell_type": "code",
   "execution_count": 3,
   "metadata": {
    "collapsed": true
   },
   "outputs": [],
   "source": [
    "%load_ext sql"
   ]
  },
  {
   "cell_type": "code",
   "execution_count": 4,
   "metadata": {},
   "outputs": [
    {
     "name": "stdout",
     "output_type": "stream",
     "text": [
      "10 rows affected.\n",
      "1 rows affected.\n"
     ]
    },
    {
     "data": {
      "text/html": [
       "<table>\n",
       "    <tr>\n",
       "        <th>count</th>\n",
       "    </tr>\n",
       "    <tr>\n",
       "        <td>567769</td>\n",
       "    </tr>\n",
       "</table>"
      ],
      "text/plain": [
       "[(567769,)]"
      ]
     },
     "execution_count": 4,
     "metadata": {},
     "output_type": "execute_result"
    }
   ],
   "source": [
    "%%sql postgresql://postgres:@127.0.0.1:5432/crypto_data\n",
    "            \n",
    "select * \n",
    "from btc_prices\n",
    "where currency_code = 'EUR'\n",
    "limit 10\n",
    ";\n",
    "\n",
    "select count(*)\n",
    "from crypto_prices\n",
    ";\n"
   ]
  },
  {
   "cell_type": "code",
   "execution_count": 18,
   "metadata": {},
   "outputs": [],
   "source": [
    "query = \"select * from btc_prices where currency_code = 'EUR'\"\n",
    "df = pd.read_sql_query(query, 'postgresql://postgres:@127.0.0.1:5432/crypto_data')\n",
    "df = df.set_index('time')"
   ]
  },
  {
   "cell_type": "code",
   "execution_count": 20,
   "metadata": {},
   "outputs": [
    {
     "data": {
      "text/plain": [
       "<matplotlib.axes._subplots.AxesSubplot at 0x10d6a0e10>"
      ]
     },
     "execution_count": 20,
     "metadata": {},
     "output_type": "execute_result"
    },
    {
     "data": {
      "image/png": "[encoded data removed]",
      "text/plain": [
       "<matplotlib.figure.Figure at 0x10d6a0208>"
      ]
     },
     "metadata": {},
     "output_type": "display_data"
    }
   ],
   "source": [
    "df.closing_price.plot()"
   ]
  },
  {
   "cell_type": "raw",
   "metadata": {},
   "source": [
    "CONTAINER_ID = $(docker ps -a -q)\n",
    "\n",
    "\n",
    "docker cp data/external/crypto_data/crypto_data.sql $CONTAINER_ID:/tmp/\n",
    ".. csv\n",
    ".. csv\n",
    ".. csv\n",
    "\n",
    "\n",
    "docker exec -it $CONTAINER_ID bash\n",
    "\n",
    "psql -U postgres -d crypto_data  < /tmp/crypto_data.sql\n",
    "\n",
    "    "
   ]
  }
 ],
 "metadata": {
  "kernelspec": {
   "display_name": "Python 3",
   "language": "python",
   "name": "python3"
  },
  "language_info": {
   "codemirror_mode": {
    "name": "ipython",
    "version": 3
   },
   "file_extension": ".py",
   "mimetype": "text/x-python",
   "name": "python",
   "nbconvert_exporter": "python",
   "pygments_lexer": "ipython3",
   "version": "3.5.3"
  }
 },
 "nbformat": 4,
 "nbformat_minor": 2
}
