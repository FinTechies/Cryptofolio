{
 "cells": [
  {
   "cell_type": "markdown",
   "metadata": {},
   "source": [
    "## Fetch Data\n",
    "\n",
    "This part is based on code written here: http://www.quantatrisk.com/2017/03/20/download-crypto-currency-time-series-portfolio-python/\n",
    "While using an existing .csv file is nice, this code can be reused for future projects (e.g. robo advisory :D)"
   ]
  },
  {
   "cell_type": "code",
   "execution_count": 366,
   "metadata": {
    "collapsed": false
   },
   "outputs": [],
   "source": [
    "# Imports and Defaults\n",
    "%matplotlib inline\n",
    "import json\n",
    "from bs4 import BeautifulSoup\n",
    "import requests \n",
    "import pprint\n",
    "from datetime import datetime\n",
    "import pandas as pd\n",
    "import numpy as np\n",
    "from matplotlib import pyplot as plt\n",
    "import time\n",
    "import requests\n",
    "pp = pprint.PrettyPrinter(indent=4)\n"
   ]
  },
  {
   "cell_type": "code",
   "execution_count": 23,
   "metadata": {
    "collapsed": false
   },
   "outputs": [],
   "source": [
    "# Fetch Coinlist\n",
    "def getCoinlist():\n",
    "\n",
    "    url = \"https://www.cryptocompare.com/api/data/coinlist/\"\n",
    "    response = requests.get(url)\n",
    "    soup = BeautifulSoup(response.content, \"html.parser\")\n",
    "    data = json.loads(soup.prettify())\n",
    "    data = data['Data']\n",
    "    \n",
    "    return list(sorted(data.keys()))"
   ]
  },
  {
   "cell_type": "code",
   "execution_count": 24,
   "metadata": {
    "collapsed": false
   },
   "outputs": [
    {
     "name": "stdout",
     "output_type": "stream",
     "text": [
      "007\n"
     ]
    }
   ],
   "source": [
    "lCoins = getCoinlist()\n",
    "print lCoins[0]\n",
    "#pp.pprint(data[lCoins[0]])"
   ]
  },
  {
   "cell_type": "code",
   "execution_count": 388,
   "metadata": {
    "collapsed": false
   },
   "outputs": [],
   "source": [
    "#Borrowed Python 3.3 Code to convert datetime to timestamp\n",
    "def _timestamp(time_date):\n",
    "\n",
    "    \"Return POSIX timestamp as float\"\n",
    "    if time_date.tzinfo is None:\n",
    "\n",
    "        return time.mktime((time_date.year, time_date.month, time_date.day,\n",
    "\n",
    "                             time_date.hour, time_date.minute, time_date.second,\n",
    "\n",
    "                             -1, -1, -1)) + time_date.microsecond / 1e6\n",
    "    else:\n",
    "\n",
    "        return (time_date - datetime.utcoffset).total_seconds()\n",
    "\n",
    "# Code from quantarisk \n",
    "# adjusted to Python 2.7\n",
    "def timestamp2date(timestamp):\n",
    "    # function converts a Unix timestamp into Gregorian date\n",
    "    return datetime.fromtimestamp(timestamp).strftime('%Y%m%d%H%m')\n",
    " \n",
    "#def date2timestamp(date):\n",
    "    # function coverts Gregorian date in a given format to timestamp\n",
    "#    return datetime.strptime(date, '%Y-%m-%d').timestamp()\n",
    "\n",
    "def fetchCryptoOHLC(fsym, tsym, interval=\"day\",timestamp_recent = None,timestamp_past = None):\n",
    "    # function fetches a crypto price-series for fsym/tsym and stores\n",
    "    # it in pandas DataFrame\n",
    " \n",
    "    cols = ['date', 'timestamp', 'open', 'high', 'low', 'close','volumefrom','volumeto']\n",
    "    lst = ['time', 'open', 'high', 'low', 'close','volumefrom','volumeto']\n",
    "     \n",
    "    if timestamp_recent is None:\n",
    "        timestamp_today = _timestamp(datetime.today())\n",
    "        curr_timestamp = timestamp_today\n",
    "        #print curr_timestamp,type(curr_timestamp)\n",
    "    else:\n",
    "        curr_timestamp = timestamp_recent\n",
    "    \n",
    "    if timestamp_past is None:\n",
    "        datapoints = 2000\n",
    "    else:\n",
    "        datapoints = calcDPs(timestamp_recent, timestamp_past, interval)\n",
    "        print datapoints\n",
    "        \n",
    "    #limit per request\n",
    "    limit = 2000\n",
    "    df = pd.DataFrame(columns=cols)\n",
    "    while(datapoints > 0):\n",
    "        \n",
    "        if datapoints < limit:\n",
    "            limit = datapoints\n",
    "            \n",
    "        datapoints = max(0,datapoints-limit)\n",
    "        #print type(tsym),type(str(int(curr_timestamp))),type(fsym)\n",
    "        url = \"https://min-api.cryptocompare.com/data/histo\"+interval+\"?fsym=\" + fsym + \"&tsym=\" + tsym + \"&toTs=\" + str(int(curr_timestamp)) + \"&limit=\"+str(limit)\n",
    "        #print url\n",
    "        response = requests.get(url)\n",
    "        soup = BeautifulSoup(response.content, \"html.parser\")\n",
    "        dic = json.loads(soup.prettify())\n",
    "        #print dic[\"Data\"]\n",
    "        for i in range(0, limit+1):\n",
    "            tmp = []\n",
    "            for e in enumerate(lst):\n",
    "               # print e, e[0]\n",
    "                x = e[0]\n",
    "                y = dic['Data'][i][e[1]]\n",
    "                if(x == 0):\n",
    "                    tmp.append(str(timestamp2date(y)))\n",
    "                tmp.append(y)\n",
    "            if(np.sum(tmp[-4::]) > 0):\n",
    "                df.loc[len(df)] = np.array(tmp)\n",
    "            \n",
    "        \n",
    "        curr_timestamp = int(df.ix[0][0])\n",
    "        #print curr_timestamp\n",
    "#        if(j == 0):\n",
    "#            df0 = df.copy()\n",
    "#        else:\n",
    "#            data = pd.concat([df, df0], axis=0)\n",
    "    \n",
    "    df.index = pd.to_datetime(df.date)\n",
    "    df.drop('date', axis=1, inplace=True)\n",
    "    return df\n",
    "\n",
    "def calcDPs(timestamp_recent, timestamp_past,interval='days'):\n",
    "    date_recent = datetime.fromtimestamp(timestamp_recent)\n",
    "    date_past = datetime.fromtimestamp(timestamp_past)\n",
    "    \n",
    "    \n",
    "    \n",
    "    diff = date_recent - date_past\n",
    "    diff_in_sec = diff.total_seconds()\n",
    "#    print date_recent, date_past\n",
    "#    print diff,diff.total_seconds()\n",
    "    \n",
    "    if interval=='hour':\n",
    "        dps = np.ceil(diff_in_sec/(60.*60))\n",
    "    elif interval=='minute':\n",
    "        dps = np.ceil(diff_in_sec/60.)\n",
    "    \n",
    "    #Fallback auf Days\n",
    "    else:\n",
    "#        print \"days\",diff_in_sec\n",
    "#        print diff_in_sec/(24.*60*60)\n",
    "        dps = np.ceil(diff_in_sec/(24.*60*60))\n",
    "      \n",
    "    return int(dps)"
   ]
  },
  {
   "cell_type": "code",
   "execution_count": 339,
   "metadata": {
    "collapsed": false
   },
   "outputs": [
    {
     "data": {
      "text/plain": [
       "1440"
      ]
     },
     "execution_count": 339,
     "metadata": {},
     "output_type": "execute_result"
    }
   ],
   "source": [
    "24*60"
   ]
  },
  {
   "cell_type": "code",
   "execution_count": 389,
   "metadata": {
    "collapsed": false
   },
   "outputs": [],
   "source": [
    "test = fetchCryptoOHLC(\"ETH\",\"USD\",interval=\"hour\")"
   ]
  },
  {
   "cell_type": "code",
   "execution_count": 390,
   "metadata": {
    "collapsed": false
   },
   "outputs": [
    {
     "name": "stdout",
     "output_type": "stream",
     "text": [
      "10705\n"
     ]
    }
   ],
   "source": [
    "test2 = fetchCryptoOHLC(\"ETH\",\"USD\",interval=\"day\",timestamp_recent=timestamp(datetime.now()),timestamp_past=timestamp(datetime(1988,3, 13)))"
   ]
  },
  {
   "cell_type": "code",
   "execution_count": 387,
   "metadata": {
    "collapsed": false
   },
   "outputs": [
    {
     "data": {
      "text/plain": [
       "<matplotlib.legend.Legend object at 0x0D47A350>"
      ]
     },
     "execution_count": 387,
     "metadata": {},
     "output_type": "execute_result"
    },
    {
     "data": {
      "image/png": "[encoded data removed]",
      "text/plain": [
       "<matplotlib.figure.Figure object at 0x0C8B40D0>"
      ]
     },
     "metadata": {},
     "output_type": "display_data"
    }
   ],
   "source": [
    "plt.plot(test.open)\n",
    "plt.plot(test.close)\n",
    "plt.plot(test.high)\n",
    "plt.plot(test.low)\n",
    "plt.legend(loc=2)"
   ]
  },
  {
   "cell_type": "code",
   "execution_count": 392,
   "metadata": {
    "collapsed": false
   },
   "outputs": [
    {
     "data": {
      "text/plain": [
       "<matplotlib.legend.Legend object at 0x0DAC02F0>"
      ]
     },
     "execution_count": 392,
     "metadata": {},
     "output_type": "execute_result"
    },
    {
     "data": {
      "image/png": "[encoded data removed]",
      "text/plain": [
       "<matplotlib.figure.Figure object at 0x0B88FE10>"
      ]
     },
     "metadata": {},
     "output_type": "display_data"
    }
   ],
   "source": [
    "#plt.plot(test.volumefrom)\n",
    "plt.plot(test.volumeto)\n",
    "plt.legend(loc=2)"
   ]
  }
 ],
 "metadata": {
  "kernelspec": {
   "display_name": "Python 2",
   "language": "python",
   "name": "python2"
  },
  "language_info": {
   "codemirror_mode": {
    "name": "ipython",
    "version": 2
   },
   "file_extension": ".py",
   "mimetype": "text/x-python",
   "name": "python",
   "nbconvert_exporter": "python",
   "pygments_lexer": "ipython2",
   "version": "2.7.11"
  }
 },
 "nbformat": 4,
 "nbformat_minor": 0
}
